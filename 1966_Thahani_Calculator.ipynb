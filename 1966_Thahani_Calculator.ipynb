{
 "cells": [
  {
   "cell_type": "code",
   "execution_count": 1,
   "id": "a302c990-ccc7-494e-b9b4-882e7dc4e621",
   "metadata": {},
   "outputs": [],
   "source": [
    "from tkinter import *\n",
    "\n",
    "def button_click(value):\n",
    "    current = txt.get()\n",
    "    if value == \"=\":\n",
    "        try:\n",
    "            result = eval(current)  \n",
    "            txt.delete(0, END)  \n",
    "            txt.insert(END, str(result))  \n",
    "        except Exception:\n",
    "            txt.delete(0, END)\n",
    "            txt.insert(END, \"Error\")\n",
    "    elif value == \"C\":\n",
    "        txt.delete(0, END)\n",
    "    else:\n",
    "        txt.insert(END, value)\n",
    "\n",
    "window = Tk()\n",
    "window.title(\"Calculator\")\n",
    "window.geometry(\"600x500\")\n",
    "\n",
    "txt = Entry(window, width=50)\n",
    "txt.grid(row=0, column=0)\n",
    "\n",
    "button_frame = Frame(window)\n",
    "button_frame.grid(row=1, column=0)\n",
    "\n",
    "buttons = [\n",
    "    '1', '2', '3', '+',\n",
    "    '4', '5', '6', '-',\n",
    "    '7', '8', '9', '*',\n",
    "    'C', '0', '=', '/'\n",
    "]\n",
    "\n",
    "row = 0\n",
    "col = 0\n",
    "\n",
    "for label in buttons:\n",
    "    button = Button(button_frame, text=label, width=10, height=3, command=lambda l=label: button_click(l))\n",
    "    button.grid(row=row, column=col)\n",
    "    col += 1\n",
    "    if col > 3:\n",
    "        col = 0\n",
    "        row += 1\n",
    "\n",
    "window.mainloop()\n"
   ]
  },
  {
   "cell_type": "code",
   "execution_count": null,
   "id": "e3453fdc-bbfa-4d87-a8f4-d0c1cf4d1ec2",
   "metadata": {},
   "outputs": [],
   "source": []
  }
 ],
 "metadata": {
  "kernelspec": {
   "display_name": "Python 3 (ipykernel)",
   "language": "python",
   "name": "python3"
  },
  "language_info": {
   "codemirror_mode": {
    "name": "ipython",
    "version": 3
   },
   "file_extension": ".py",
   "mimetype": "text/x-python",
   "name": "python",
   "nbconvert_exporter": "python",
   "pygments_lexer": "ipython3",
   "version": "3.12.7"
  }
 },
 "nbformat": 4,
 "nbformat_minor": 5
}
